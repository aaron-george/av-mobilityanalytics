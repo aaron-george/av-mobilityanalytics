{
 "cells": [
  {
   "cell_type": "code",
   "execution_count": 1,
   "metadata": {},
   "outputs": [],
   "source": [
    "import pandas as pd\n",
    "import numpy as np\n",
    "import matplotlib.pyplot as plt\n"
   ]
  },
  {
   "cell_type": "code",
   "execution_count": 22,
   "metadata": {},
   "outputs": [],
   "source": [
    "df_train=pd.read_csv(\"/home/aaron/Projects/Janata Hack/Mobility Analytics/av-mobilityanalytics/train_Wc8LBpr.csv\",index_col=\"Trip_ID\")\n",
    "df_test= pd.read_csv(\"/home/aaron/Projects/Janata Hack/Mobility Analytics/av-mobilityanalytics/test_VsU9xXK.csv\",index_col=\"Trip_ID\")\n",
    "df_submission=pd.read_csv(\"/home/aaron/Projects/Janata Hack/Mobility Analytics/av-mobilityanalytics/sample_submission_NoPBkjr.csv\")"
   ]
  },
  {
   "cell_type": "code",
   "execution_count": null,
   "metadata": {},
   "outputs": [],
   "source": [
    "# We will input mode in type of cab and confidence life_style index  \n",
    "# and input mean in the rest of the columns\n"
   ]
  },
  {
   "cell_type": "code",
   "execution_count": 15,
   "metadata": {},
   "outputs": [],
   "source": [
    "for column in ['Type_of_Cab', 'Confidence_Life_Style_Index']:\n",
    "    df_train[column].fillna(df_train[column].mode()[0], inplace=True)\n",
    "    df_test[column].fillna(df_test[column].mode()[0], inplace=True)"
   ]
  },
  {
   "cell_type": "code",
   "execution_count": 19,
   "metadata": {},
   "outputs": [],
   "source": [
    "for column in ['Customer_Since_Months', 'Life_Style_Index','Var1']:\n",
    "    df_train[column].fillna(df_train[column].mean(), inplace=True)\n",
    "    df_test[column].fillna(df_test[column].mean(), inplace=True)"
   ]
  },
  {
   "cell_type": "code",
   "execution_count": null,
   "metadata": {},
   "outputs": [],
   "source": []
  }
 ],
 "metadata": {
  "kernelspec": {
   "display_name": "Python 3",
   "language": "python",
   "name": "python3"
  },
  "language_info": {
   "codemirror_mode": {
    "name": "ipython",
    "version": 3
   },
   "file_extension": ".py",
   "mimetype": "text/x-python",
   "name": "python",
   "nbconvert_exporter": "python",
   "pygments_lexer": "ipython3",
   "version": "3.8.2"
  }
 },
 "nbformat": 4,
 "nbformat_minor": 4
}
