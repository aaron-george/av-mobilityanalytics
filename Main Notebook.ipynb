{
 "cells": [
  {
   "cell_type": "code",
   "execution_count": 1,
   "metadata": {},
   "outputs": [],
   "source": [
    "import pandas as pd\n",
    "import numpy as np\n",
    "import matplotlib.pyplot as plt\n",
    "from sklearn.preprocessing import LabelEncoder\n",
    "from sklearn.preprocessing import OneHotEncoder\n",
    "from sklearn.utils import shuffle\n",
    "from sklearn.svm import SVC\n",
    "from sklearn.metrics import confusion_matrix,classification_report\n",
    "from sklearn.model_selection import cross_val_score, GridSearchCV\n",
    "from sklearn.linear_model import LogisticRegression\n",
    "from sklearn.multiclass import OneVsRestClassifier\n",
    "from sklearn.svm import LinearSVC\n",
    "from catboost import CatBoostClassifier\n",
    "from sklearn.multiclass import OneVsRestClassifier\n",
    "from xgboost import XGBClassifier\n",
    "from sklearn.preprocessing import MultiLabelBinarizer\n",
    "from xgboost import XGBClassifier\n",
    "from sklearn.ensemble import RandomForestClassifier"
   ]
  },
  {
   "cell_type": "code",
   "execution_count": 2,
   "metadata": {},
   "outputs": [],
   "source": [
    "df_train=pd.read_csv(\"/home/aaron/Projects/Janata Hack/Mobility Analytics/av-mobilityanalytics/train_Wc8LBpr.csv\",index_col=\"Trip_ID\")\n",
    "df_test= pd.read_csv(\"/home/aaron/Projects/Janata Hack/Mobility Analytics/av-mobilityanalytics/test_VsU9xXK.csv\",index_col=\"Trip_ID\")\n",
    "df_submission=pd.read_csv(\"/home/aaron/Projects/Janata Hack/Mobility Analytics/av-mobilityanalytics/sample_submission_NoPBkjr.csv\")"
   ]
  },
  {
   "cell_type": "code",
   "execution_count": 3,
   "metadata": {},
   "outputs": [],
   "source": [
    "# We will input mode in type of cab and confidence life_style index  \n",
    "# and input mean in the rest of the columns\n"
   ]
  },
  {
   "cell_type": "code",
   "execution_count": 4,
   "metadata": {},
   "outputs": [],
   "source": [
    "for column in ['Type_of_Cab', 'Confidence_Life_Style_Index']:\n",
    "    df_train[column].fillna(df_train[column].mode()[0], inplace=True)\n",
    "    df_test[column].fillna(df_test[column].mode()[0], inplace=True)"
   ]
  },
  {
   "cell_type": "code",
   "execution_count": 5,
   "metadata": {},
   "outputs": [],
   "source": [
    "for column in ['Customer_Since_Months', 'Life_Style_Index','Var1']:\n",
    "    df_train[column].fillna(df_train[column].mean(), inplace=True)\n",
    "    df_test[column].fillna(df_test[column].mean(), inplace=True)"
   ]
  },
  {
   "cell_type": "code",
   "execution_count": 6,
   "metadata": {},
   "outputs": [],
   "source": [
    "\n",
    "\n",
    "#Feature Engineering\n",
    "\n",
    "X_train = df_train.drop(columns='Surge_Pricing_Type',axis=1)\n",
    "Y_train = df_train['Surge_Pricing_Type']\n",
    "X_test = df_test\n",
    "\n"
   ]
  },
  {
   "cell_type": "code",
   "execution_count": 7,
   "metadata": {},
   "outputs": [
    {
     "data": {
      "text/plain": [
       "A    51413\n",
       "B    19638\n",
       "C     4913\n",
       "D     4497\n",
       "E     1832\n",
       "F     1272\n",
       "G     1024\n",
       "H      864\n",
       "I      521\n",
       "J      471\n",
       "K      422\n",
       "L      409\n",
       "M       67\n",
       "N       52\n",
       "Name: Destination_Type, dtype: int64"
      ]
     },
     "execution_count": 7,
     "metadata": {},
     "output_type": "execute_result"
    }
   ],
   "source": [
    "X_test['Destination_Type'].value_counts()"
   ]
  },
  {
   "cell_type": "code",
   "execution_count": 8,
   "metadata": {},
   "outputs": [],
   "source": [
    "#Label Encoding Type_of_Cab and Destination_Type\n",
    "\n",
    "label_columns=['Destination_Type']\n",
    "label_encoder=LabelEncoder()\n",
    "for col in label_columns:\n",
    "    X_train[col] = label_encoder.fit_transform(X_train[col])\n",
    "    X_test[col] = label_encoder.fit_transform(X_test[col])\n"
   ]
  },
  {
   "cell_type": "code",
   "execution_count": 9,
   "metadata": {},
   "outputs": [],
   "source": [
    "# Apply one-hot encoder to each column with categorical data\n",
    "one_hot_cols=['Type_of_Cab','Confidence_Life_Style_Index','Gender']\n",
    "\n",
    "OH_encoder = OneHotEncoder(handle_unknown='ignore', sparse=False)\n",
    "X_train_f = pd.DataFrame(OH_encoder.fit_transform(X_train[one_hot_cols]))\n",
    "X_test_f = pd.DataFrame(OH_encoder.fit_transform(X_test[one_hot_cols]))\n",
    "\n",
    "# One-hot encoding removed index; put it back\n",
    "X_train_f.index = X_train.index\n",
    "X_test_f.index = X_test.index\n",
    "\n",
    "# Remove categorical columns (will replace with one-hot encoding)\n",
    "num_X_train = X_train.drop(one_hot_cols, axis=1)\n",
    "num_X_test = X_test.drop(one_hot_cols, axis=1)\n",
    "\n",
    "# Add one-hot encoded columns to numerical features\n",
    "F_X_train = pd.concat([num_X_train, X_train_f], axis=1)\n",
    "F_X_test = pd.concat([num_X_test, X_test_f], axis=1)"
   ]
  },
  {
   "cell_type": "code",
   "execution_count": 12,
   "metadata": {},
   "outputs": [],
   "source": [
    "# Scaling the Train and Test feature set \n",
    "from sklearn.preprocessing import StandardScaler\n",
    "scaler = StandardScaler()\n",
    "X_train_scaled = scaler.fit_transform(F_X_train)\n",
    "X_test_scaled = scaler.transform(F_X_test)"
   ]
  },
  {
   "cell_type": "code",
   "execution_count": 17,
   "metadata": {},
   "outputs": [
    {
     "data": {
      "text/plain": [
       "XGBClassifier(base_score=0.5, booster=None, colsample_bylevel=1,\n",
       "              colsample_bynode=1, colsample_bytree=1, gamma=0, gpu_id=-1,\n",
       "              importance_type='gain', interaction_constraints=None,\n",
       "              learning_rate=0.07, max_delta_step=0, max_depth=5,\n",
       "              min_child_weight=1, missing=nan, monotone_constraints=None,\n",
       "              n_estimators=100, n_jobs=0, num_estimators=225,\n",
       "              num_parallel_tree=1, objective='multi:softprob', random_state=0,\n",
       "              reg_alpha=0, reg_lambda=1, scale_pos_weight=None, subsample=1,\n",
       "              tree_method=None, validate_parameters=False, verbosity=None)"
      ]
     },
     "execution_count": 17,
     "metadata": {},
     "output_type": "execute_result"
    }
   ],
   "source": [
    "model.fit(X_train_scaled, Y_train)"
   ]
  },
  {
   "cell_type": "code",
   "execution_count": 18,
   "metadata": {},
   "outputs": [],
   "source": [
    "predict_test = model.predict(X_test_scaled)\n",
    "df_submission.Surge_Pricing_Type = predict_test\n",
    "df_submission.to_csv('solution.csv',index = False)\n"
   ]
  },
  {
   "cell_type": "code",
   "execution_count": 16,
   "metadata": {},
   "outputs": [],
   "source": [
    "model=XGBClassifier(max_depth =5,num_estimators = 225,learning_rate = 0.07)"
   ]
  }
 ],
 "metadata": {
  "kernelspec": {
   "display_name": "Python 3",
   "language": "python",
   "name": "python3"
  },
  "language_info": {
   "codemirror_mode": {
    "name": "ipython",
    "version": 3
   },
   "file_extension": ".py",
   "mimetype": "text/x-python",
   "name": "python",
   "nbconvert_exporter": "python",
   "pygments_lexer": "ipython3",
   "version": "3.8.2"
  }
 },
 "nbformat": 4,
 "nbformat_minor": 4
}
